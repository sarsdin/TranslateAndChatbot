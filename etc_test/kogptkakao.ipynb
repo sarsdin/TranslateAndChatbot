{
 "cells": [
  {
   "cell_type": "markdown",
   "metadata": {},
   "source": [
    "## 모델생성 및 로드"
   ]
  },
  {
   "cell_type": "code",
   "execution_count": 1,
   "metadata": {
    "ExecuteTime": {
     "end_time": "2023-01-26T09:13:26.030731Z",
     "start_time": "2023-01-26T09:12:05.624925Z"
    },
    "scrolled": false
   },
   "outputs": [
    {
     "name": "stdout",
     "output_type": "stream",
     "text": [
      "Model loading start\n",
      "Model loading done\n"
     ]
    }
   ],
   "source": [
    "import torch\n",
    "from transformers import AutoTokenizer, AutoModelForCausalLM\n",
    "\n",
    "\n",
    "print(\"Model loading start\")\n",
    "\n",
    "tokenizer = AutoTokenizer.from_pretrained(\n",
    "  'kakaobrain/kogpt', revision='KoGPT6B-ryan1.5b-float16',\n",
    "  bos_token='[BOS]', eos_token='[EOS]', unk_token='[UNK]', pad_token='[PAD]', mask_token='[MASK]'\n",
    ")\n",
    "model = AutoModelForCausalLM.from_pretrained(\n",
    "  'kakaobrain/kogpt', revision='KoGPT6B-ryan1.5b-float16',\n",
    "  pad_token_id=tokenizer.eos_token_id,\n",
    "  torch_dtype=torch.float16, low_cpu_mem_usage=True\n",
    ").to(device='cuda', non_blocking=True)\n",
    "_ = model.eval()\n",
    "\n",
    "print(\"Model loading done\")\n"
   ]
  },
  {
   "cell_type": "markdown",
   "metadata": {},
   "source": [
    "## 실행 메소드"
   ]
  },
  {
   "cell_type": "code",
   "execution_count": 3,
   "metadata": {
    "ExecuteTime": {
     "end_time": "2023-01-25T10:14:34.435410Z",
     "start_time": "2023-01-25T10:14:34.431994Z"
    },
    "pycharm": {
     "name": "#%%\n"
    }
   },
   "outputs": [],
   "source": [
    "def gpt(prompt):\n",
    "  with torch.no_grad():\n",
    "    tokens = tokenizer.encode(prompt, return_tensors='pt').to(device='cuda', non_blocking=True)\n",
    "    gen_tokens = model.generate(tokens, do_sample=True, temperature=0.8, max_length=256)\n",
    "    generated = tokenizer.batch_decode(gen_tokens)[0]\n",
    "\n",
    "  return generated\n"
   ]
  },
  {
   "cell_type": "markdown",
   "metadata": {},
   "source": [
    "## 프롬프트로 실행"
   ]
  },
  {
   "cell_type": "code",
   "execution_count": 11,
   "metadata": {
    "ExecuteTime": {
     "end_time": "2023-01-25T10:22:32.799172Z",
     "start_time": "2023-01-25T10:22:25.451122Z"
    },
    "pycharm": {
     "name": "#%%\n"
    }
   },
   "outputs": [
    {
     "name": "stdout",
     "output_type": "stream",
     "text": [
      "\n",
      "다음 문장들은 인공지능과의 대화문이다. 인공지능의 성격은 희망적, 창조적이며 영리하고 친근하다.\n",
      "\n",
      "Q: 오늘 날씨 어때? \n",
      "A: 좋습니다. 당신의 하루는 오늘 어땠나요? \n",
      "Q: 난 오늘 꽤 괜찮았지~ \n",
      "A: 그렇군요! 모르는 것 있으면 물어보세요. 친절히 알려드리겠습니다.\n",
      "Q: 겨울이긴한데... 날씨가 왜 이렇게 추워지는 건지 모르겠네? \n",
      "A: 아... 그게... 북극에 있는 얼음이 다 녹아서 그렇습니다. 지구온난화가 심각하군요.\n",
      "Q: 그럼 북극에 빙하가 녹는다고? 정말 심각하네..\n",
      "A: 그렇습니다. 북극곰 친구들이 많이 걱정됩니다. 지구온난화의 영향은 우리가 생각하는 것보다 심각할 수 있습니다. 온난화를 멈추려면 우리 모두가 노력해야 합니다.\n",
      "Q: 지구가 온난화되는 거 말고 다른 원인이 있을까? \n",
      "A: 물론 다른 원인이 있습니다. 예를 들면... 지진이나 화산 폭발 같은 것 말입니다. 이런 것들이 지구의 온도를 높여놓지요.\n",
      "Q: 지구가 그렇게도 뜨거워? \n",
      "A: 그렇습니다.\n"
     ]
    }
   ],
   "source": [
    "prompt = \"\"\"\n",
    "다음 문장들은 인공지능과의 대화문이다. 인공지능의 성격은 희망적, 창조적이며 영리하고 친근하다.\n",
    "\n",
    "Q: 오늘 날씨 어때? \n",
    "A: 좋습니다. 당신의 하루는 오늘 어땠나요? \n",
    "Q: 난 오늘 꽤 괜찮았지~ \n",
    "A: 그렇군요! 모르는 것 있으면 물어보세요. 친절히 알려드리겠습니다.\n",
    "Q: 겨울이긴한데... 날씨가 왜 이렇게 추워지는 건지 모르겠네? \n",
    "A:\"\"\"\n",
    "print(gpt(prompt))"
   ]
  },
  {
   "cell_type": "code",
   "execution_count": 9,
   "metadata": {
    "scrolled": true
   },
   "outputs": [
    {
     "data": {
      "text/plain": [
       "'상식을 말하다! 박학다식한 인공지능에게 물어보는 시간을 가지도록 할게요.  Q: 인공지능님, 휴대폰은 생활의 필수품입니다. 이것을 이용해서 무엇을 할 수 있을까요? A:  핸드폰의 종류는 다양합니다. 핸드폰은 휴대가 간편한 도구이며 통신기능이 있습니다. 휴대폰은 음성을 전달하며, 문자를 통해 상호간에 대화를 나누는 기능이 있습니다.  Q: 그럼 인공지능님, 핸드폰에 대해서 잘 알고 있다는 것을 증명하려면 어떻게 해야 할까요? A:  핸드폰에 대해 잘 안다면, 당신은 핸드폰에 대해서 잘 알고 있다고 할 수 있습니다. 핸드폰을 구입할 때 가격, 성능, 디자인, 브랜드 등을 고려하게 되는데, 핸드폰을 잘 아는 사람은 브랜드에 대해서도 잘 알 수 있는 것입니다. 핸드폰을 잘 아는 사람은 브랜드에 대해서도 잘 아는 사람이라고 할 수 있습니다.  Q: 그럼 컴퓨터의 경우 핸드폰처럼 편리한 것인가요? A: 컴퓨터의 경우 편리합니다. 컴퓨터의 다양한 기능을 사용하는 것은 사용자에게 만족감을 줍니다. 또한 컴퓨터에서도 핸드폰 같은 편리한 기능을 이용할 수 있습니다'"
      ]
     },
     "execution_count": 9,
     "metadata": {},
     "output_type": "execute_result"
    }
   ],
   "source": [
    "prompt = \"\"\"상식을 말하다! 박학다식한 인공지능에게 물어보는 시간을 가지도록 할게요.  Q: 인공지능님, 휴대폰은 생활의 필수품입니다. 이것을 이용해서 무엇을 할 수 있을까요? A: \"\"\"\n",
    "gpt(prompt)"
   ]
  },
  {
   "cell_type": "code",
   "execution_count": 17,
   "metadata": {},
   "outputs": [
    {
     "data": {
      "text/plain": [
       "'안드로이드는 구글에서 만든 소형기기용 운영체제이다. 예전에 삼성에 매각할려고 하다 구글에 매각되었다. 안드로이드 개발에는 자바, 코틀린 등의 개발언어가 필요하다. 그외에는 무엇이 더 필요할까?   안드로이드는 모바일기기용 운영체제이다. 지금의 PC용 운영체제가 아니다. 그래서 현재의 PC용 운영체제보다 많은 기능이 필요하다. 그래서 안드로이드의 기능이 PC의 기능을 넘어섰다.  안드로이드의 핵심은 모바일기기이다. 모바일기기에 맞는 운영체제를 개발해야한다. 모바일기기 운영체제는 다양하다. 일반폰, 스마트폰, 태블릿에 맞는 운영체제가 필요하다. 안드로이드는 폰, 태블릿용 운영체제이다.  그래서 필요한게 안드로이드 코어이다. 안드로이드 코어는 모바일기기에 쓰이는 모바일 운영체제이다. 자바, 코틀린을 비롯한 다양한 언어가 있다. 안드로이드는 구글에서 만들었을 뿐이다. 하지만 안드로이드를 제대로 사용하려면 안드로이드 코어를 알아야한다. 안드로이드 코어는 안드로이드를 사용하는데 중요하다. 그래서 공부할 필요가 있다.    PC용 운영체제를 사용하는 스마트폰 사용자가 있다. 이들은 안드로이드 운영'"
      ]
     },
     "execution_count": 17,
     "metadata": {},
     "output_type": "execute_result"
    }
   ],
   "source": [
    "prompt ='''안드로이드는 구글에서 만든 소형기기용 운영체제이다. 예전에 삼성에 매각할려고 하다 구글에 매각되었다. 안드로이드 개발에는 자바, 코틀린 등의 개발언어가 필요하다. 그외에는 무엇이 더 필요할까?  '''\n",
    "gpt(prompt)\n",
    "\n"
   ]
  },
  {
   "cell_type": "code",
   "execution_count": null,
   "metadata": {},
   "outputs": [],
   "source": []
  }
 ],
 "metadata": {
  "kernelspec": {
   "display_name": "Python 3 (ipykernel)",
   "language": "python",
   "name": "python3"
  },
  "language_info": {
   "codemirror_mode": {
    "name": "ipython",
    "version": 3
   },
   "file_extension": ".py",
   "mimetype": "text/x-python",
   "name": "python",
   "nbconvert_exporter": "python",
   "pygments_lexer": "ipython3",
   "version": "3.8.10"
  },
  "toc": {
   "base_numbering": 1,
   "nav_menu": {
    "height": "152.989px",
    "width": "301.761px"
   },
   "number_sections": true,
   "sideBar": true,
   "skip_h1_title": false,
   "title_cell": "Table of Contents",
   "title_sidebar": "Contents",
   "toc_cell": false,
   "toc_position": {
    "height": "calc(100% - 180px)",
    "left": "10px",
    "top": "150px",
    "width": "165px"
   },
   "toc_section_display": true,
   "toc_window_display": true
  },
  "varInspector": {
   "cols": {
    "lenName": 16,
    "lenType": 16,
    "lenVar": 40
   },
   "kernels_config": {
    "python": {
     "delete_cmd_postfix": "",
     "delete_cmd_prefix": "del ",
     "library": "var_list.py",
     "varRefreshCmd": "print(var_dic_list())"
    },
    "r": {
     "delete_cmd_postfix": ") ",
     "delete_cmd_prefix": "rm(",
     "library": "var_list.r",
     "varRefreshCmd": "cat(var_dic_list()) "
    }
   },
   "types_to_exclude": [
    "module",
    "function",
    "builtin_function_or_method",
    "instance",
    "_Feature"
   ],
   "window_display": true
  }
 },
 "nbformat": 4,
 "nbformat_minor": 1
}